{
 "cells": [
  {
   "cell_type": "code",
   "execution_count": 1,
   "metadata": {
    "execution": {
     "iopub.execute_input": "2024-11-26T07:32:02.951372Z",
     "iopub.status.busy": "2024-11-26T07:32:02.951189Z",
     "iopub.status.idle": "2024-11-26T07:32:04.358234Z",
     "shell.execute_reply": "2024-11-26T07:32:04.357696Z"
    }
   },
   "outputs": [],
   "source": [
    "import numpy as np\n",
    "from matplotlib import pyplot as plt\n",
    "import pandas as pd\n",
    "import seaborn as sns\n",
    "from teeplot import teeplot as tp\n"
   ]
  },
  {
   "cell_type": "code",
   "execution_count": 2,
   "metadata": {
    "execution": {
     "iopub.execute_input": "2024-11-26T07:32:04.360750Z",
     "iopub.status.busy": "2024-11-26T07:32:04.360222Z",
     "iopub.status.idle": "2024-11-26T07:32:09.346555Z",
     "shell.execute_reply": "2024-11-26T07:32:09.345976Z"
    }
   },
   "outputs": [],
   "source": [
    "df = pd.read_parquet(\"https://osf.io/gk2ty/download\")\n"
   ]
  },
  {
   "cell_type": "code",
   "execution_count": 3,
   "metadata": {
    "execution": {
     "iopub.execute_input": "2024-11-26T07:32:09.348971Z",
     "iopub.status.busy": "2024-11-26T07:32:09.348604Z",
     "iopub.status.idle": "2024-11-26T07:32:09.746722Z",
     "shell.execute_reply": "2024-11-26T07:32:09.746092Z"
    }
   },
   "outputs": [],
   "source": [
    "df[\"Components\"] = df[\"Task\"].map(\n",
    "    {\n",
    "        \"AND\": 2,\n",
    "        \"ANDNOT\": 3,\n",
    "        \"NAND\": 1,\n",
    "        \"NOR\": 4,\n",
    "        \"NOT\": 1,\n",
    "        \"OR\": 3,\n",
    "        \"ORNOT\": 2,\n",
    "        \"XOR\": 4,\n",
    "        \"EQUALS\": 5,\n",
    "    },\n",
    ")\n"
   ]
  },
  {
   "cell_type": "code",
   "execution_count": 4,
   "metadata": {
    "execution": {
     "iopub.execute_input": "2024-11-26T07:32:09.748883Z",
     "iopub.status.busy": "2024-11-26T07:32:09.748678Z",
     "iopub.status.idle": "2024-11-26T07:32:16.062023Z",
     "shell.execute_reply": "2024-11-26T07:32:16.050379Z"
    }
   },
   "outputs": [],
   "source": [
    "dfx = df.groupby(\n",
    "    [\"Generation Born\", \"Components\", \"Run ID\", \"Treatment\"],\n",
    "    observed=True,\n",
    ").agg(\n",
    "    **{\n",
    "        \"Delta Has Task\": (\"Delta Has Task\", \"first\"),\n",
    "        \"SLIP_INSERTION_BOOL_MASK\": (\"SLIP_INSERTION_BOOL_MASK\", \"max\"),\n",
    "        \"POINT_MUTATION_BOOL_MASK\": (\"POINT_MUTATION_BOOL_MASK\", \"max\"),\n",
    "    },\n",
    ")\n"
   ]
  },
  {
   "cell_type": "code",
   "execution_count": 5,
   "metadata": {
    "execution": {
     "iopub.execute_input": "2024-11-26T07:32:16.101323Z",
     "iopub.status.busy": "2024-11-26T07:32:16.100598Z",
     "iopub.status.idle": "2024-11-26T07:32:16.141498Z",
     "shell.execute_reply": "2024-11-26T07:32:16.140796Z"
    }
   },
   "outputs": [],
   "source": [
    "del df\n"
   ]
  },
  {
   "cell_type": "code",
   "execution_count": 6,
   "metadata": {
    "execution": {
     "iopub.execute_input": "2024-11-26T07:32:16.144341Z",
     "iopub.status.busy": "2024-11-26T07:32:16.143915Z",
     "iopub.status.idle": "2024-11-26T07:32:16.219045Z",
     "shell.execute_reply": "2024-11-26T07:32:16.218439Z"
    }
   },
   "outputs": [
    {
     "data": {
      "text/html": [
       "<div>\n",
       "<style scoped>\n",
       "    .dataframe tbody tr th:only-of-type {\n",
       "        vertical-align: middle;\n",
       "    }\n",
       "\n",
       "    .dataframe tbody tr th {\n",
       "        vertical-align: top;\n",
       "    }\n",
       "\n",
       "    .dataframe thead th {\n",
       "        text-align: right;\n",
       "    }\n",
       "</style>\n",
       "<table border=\"1\" class=\"dataframe\">\n",
       "  <thead>\n",
       "    <tr style=\"text-align: right;\">\n",
       "      <th></th>\n",
       "      <th>Generation Born</th>\n",
       "      <th>Components</th>\n",
       "      <th>Run ID</th>\n",
       "      <th>Treatment</th>\n",
       "      <th>Delta Has Task</th>\n",
       "      <th>SLIP_INSERTION_BOOL_MASK</th>\n",
       "      <th>POINT_MUTATION_BOOL_MASK</th>\n",
       "    </tr>\n",
       "  </thead>\n",
       "  <tbody>\n",
       "    <tr>\n",
       "      <th>0</th>\n",
       "      <td>0</td>\n",
       "      <td>1</td>\n",
       "      <td>run_1530</td>\n",
       "      <td>Baseline-Treatment</td>\n",
       "      <td>0</td>\n",
       "      <td>False</td>\n",
       "      <td>False</td>\n",
       "    </tr>\n",
       "    <tr>\n",
       "      <th>1</th>\n",
       "      <td>0</td>\n",
       "      <td>1</td>\n",
       "      <td>run_1531</td>\n",
       "      <td>Baseline-Treatment</td>\n",
       "      <td>0</td>\n",
       "      <td>False</td>\n",
       "      <td>False</td>\n",
       "    </tr>\n",
       "    <tr>\n",
       "      <th>2</th>\n",
       "      <td>0</td>\n",
       "      <td>1</td>\n",
       "      <td>run_1532</td>\n",
       "      <td>Baseline-Treatment</td>\n",
       "      <td>0</td>\n",
       "      <td>False</td>\n",
       "      <td>False</td>\n",
       "    </tr>\n",
       "    <tr>\n",
       "      <th>3</th>\n",
       "      <td>0</td>\n",
       "      <td>1</td>\n",
       "      <td>run_1533</td>\n",
       "      <td>Baseline-Treatment</td>\n",
       "      <td>0</td>\n",
       "      <td>False</td>\n",
       "      <td>False</td>\n",
       "    </tr>\n",
       "    <tr>\n",
       "      <th>4</th>\n",
       "      <td>0</td>\n",
       "      <td>1</td>\n",
       "      <td>run_1534</td>\n",
       "      <td>Baseline-Treatment</td>\n",
       "      <td>0</td>\n",
       "      <td>False</td>\n",
       "      <td>False</td>\n",
       "    </tr>\n",
       "    <tr>\n",
       "      <th>...</th>\n",
       "      <td>...</td>\n",
       "      <td>...</td>\n",
       "      <td>...</td>\n",
       "      <td>...</td>\n",
       "      <td>...</td>\n",
       "      <td>...</td>\n",
       "      <td>...</td>\n",
       "    </tr>\n",
       "    <tr>\n",
       "      <th>102640</th>\n",
       "      <td>7765</td>\n",
       "      <td>1</td>\n",
       "      <td>run_1542</td>\n",
       "      <td>Baseline-Treatment</td>\n",
       "      <td>0</td>\n",
       "      <td>False</td>\n",
       "      <td>True</td>\n",
       "    </tr>\n",
       "    <tr>\n",
       "      <th>102641</th>\n",
       "      <td>7765</td>\n",
       "      <td>2</td>\n",
       "      <td>run_1542</td>\n",
       "      <td>Baseline-Treatment</td>\n",
       "      <td>0</td>\n",
       "      <td>False</td>\n",
       "      <td>True</td>\n",
       "    </tr>\n",
       "    <tr>\n",
       "      <th>102642</th>\n",
       "      <td>7765</td>\n",
       "      <td>3</td>\n",
       "      <td>run_1542</td>\n",
       "      <td>Baseline-Treatment</td>\n",
       "      <td>0</td>\n",
       "      <td>False</td>\n",
       "      <td>True</td>\n",
       "    </tr>\n",
       "    <tr>\n",
       "      <th>102643</th>\n",
       "      <td>7765</td>\n",
       "      <td>4</td>\n",
       "      <td>run_1542</td>\n",
       "      <td>Baseline-Treatment</td>\n",
       "      <td>0</td>\n",
       "      <td>False</td>\n",
       "      <td>True</td>\n",
       "    </tr>\n",
       "    <tr>\n",
       "      <th>102644</th>\n",
       "      <td>7765</td>\n",
       "      <td>5</td>\n",
       "      <td>run_1542</td>\n",
       "      <td>Baseline-Treatment</td>\n",
       "      <td>0</td>\n",
       "      <td>False</td>\n",
       "      <td>True</td>\n",
       "    </tr>\n",
       "  </tbody>\n",
       "</table>\n",
       "<p>102645 rows × 7 columns</p>\n",
       "</div>"
      ],
      "text/plain": [
       "        Generation Born  Components    Run ID           Treatment  \\\n",
       "0                     0           1  run_1530  Baseline-Treatment   \n",
       "1                     0           1  run_1531  Baseline-Treatment   \n",
       "2                     0           1  run_1532  Baseline-Treatment   \n",
       "3                     0           1  run_1533  Baseline-Treatment   \n",
       "4                     0           1  run_1534  Baseline-Treatment   \n",
       "...                 ...         ...       ...                 ...   \n",
       "102640             7765           1  run_1542  Baseline-Treatment   \n",
       "102641             7765           2  run_1542  Baseline-Treatment   \n",
       "102642             7765           3  run_1542  Baseline-Treatment   \n",
       "102643             7765           4  run_1542  Baseline-Treatment   \n",
       "102644             7765           5  run_1542  Baseline-Treatment   \n",
       "\n",
       "        Delta Has Task  SLIP_INSERTION_BOOL_MASK  POINT_MUTATION_BOOL_MASK  \n",
       "0                    0                     False                     False  \n",
       "1                    0                     False                     False  \n",
       "2                    0                     False                     False  \n",
       "3                    0                     False                     False  \n",
       "4                    0                     False                     False  \n",
       "...                ...                       ...                       ...  \n",
       "102640               0                     False                      True  \n",
       "102641               0                     False                      True  \n",
       "102642               0                     False                      True  \n",
       "102643               0                     False                      True  \n",
       "102644               0                     False                      True  \n",
       "\n",
       "[102645 rows x 7 columns]"
      ]
     },
     "execution_count": 6,
     "metadata": {},
     "output_type": "execute_result"
    }
   ],
   "source": [
    "dfy = dfx.reset_index()\n",
    "dfy\n"
   ]
  },
  {
   "cell_type": "code",
   "execution_count": 7,
   "metadata": {
    "execution": {
     "iopub.execute_input": "2024-11-26T07:32:16.288228Z",
     "iopub.status.busy": "2024-11-26T07:32:16.287668Z",
     "iopub.status.idle": "2024-11-26T07:32:17.514308Z",
     "shell.execute_reply": "2024-11-26T07:32:17.513664Z"
    }
   },
   "outputs": [
    {
     "name": "stdout",
     "output_type": "stream",
     "text": [
      "teeplots/hue=delta-has-task+viz=barplot+x=components+y=slip-insertion-bool-mask+ext=.pdf\n"
     ]
    },
    {
     "name": "stdout",
     "output_type": "stream",
     "text": [
      "teeplots/hue=delta-has-task+viz=barplot+x=components+y=slip-insertion-bool-mask+ext=.png\n"
     ]
    },
    {
     "data": {
      "image/png": "[encoded data removed]",
      "text/plain": [
       "<Figure size 640x480 with 1 Axes>"
      ]
     },
     "metadata": {},
     "output_type": "display_data"
    },
    {
     "data": {
      "text/plain": [
       "<Axes: xlabel='Components', ylabel='SLIP_INSERTION_BOOL_MASK'>"
      ]
     },
     "execution_count": 7,
     "metadata": {},
     "output_type": "execute_result"
    }
   ],
   "source": [
    "tp.tee(\n",
    "    sns.barplot,\n",
    "    data=dfy[\n",
    "        dfy[\"Treatment\"] == \"Slip-duplicate\"\n",
    "    ].astype(\n",
    "        {\n",
    "            \"Delta Has Task\": \"category\",\n",
    "            \"SLIP_INSERTION_BOOL_MASK\": \"bool\",\n",
    "            \"POINT_MUTATION_BOOL_MASK\": \"category\",\n",
    "        }\n",
    "    ),\n",
    "    x=\"Components\",\n",
    "    y=\"SLIP_INSERTION_BOOL_MASK\",\n",
    "    hue=\"Delta Has Task\",\n",
    ")\n"
   ]
  },
  {
   "cell_type": "code",
   "execution_count": 8,
   "metadata": {
    "execution": {
     "iopub.execute_input": "2024-11-26T07:32:17.516763Z",
     "iopub.status.busy": "2024-11-26T07:32:17.516408Z",
     "iopub.status.idle": "2024-11-26T07:32:21.987832Z",
     "shell.execute_reply": "2024-11-26T07:32:21.987170Z"
    }
   },
   "outputs": [
    {
     "name": "stdout",
     "output_type": "stream",
     "text": [
      "teeplots/col=components+hue=slip-insertion-bool-mask+kind=hist+multiple=dodge+stat=count+viz=displot+x=delta-has-task+ext=.pdf\n"
     ]
    },
    {
     "name": "stdout",
     "output_type": "stream",
     "text": [
      "teeplots/col=components+hue=slip-insertion-bool-mask+kind=hist+multiple=dodge+stat=count+viz=displot+x=delta-has-task+ext=.png\n"
     ]
    },
    {
     "data": {
      "image/png": "[encoded data removed]",
      "text/plain": [
       "<Figure size 1713.36x1000 with 5 Axes>"
      ]
     },
     "metadata": {},
     "output_type": "display_data"
    },
    {
     "data": {
      "text/plain": [
       "<seaborn.axisgrid.FacetGrid at 0x7feff2522dd0>"
      ]
     },
     "execution_count": 8,
     "metadata": {},
     "output_type": "execute_result"
    }
   ],
   "source": [
    "saveit, result = tp.tee(\n",
    "    sns.displot,\n",
    "    data=dfy[\n",
    "        dfy[\"Treatment\"] == \"Slip-duplicate\"\n",
    "    ].astype(\n",
    "        {\n",
    "            \"Delta Has Task\": \"category\",\n",
    "            \"SLIP_INSERTION_BOOL_MASK\": \"category\",\n",
    "            \"POINT_MUTATION_BOOL_MASK\": \"category\",\n",
    "        }\n",
    "    ),\n",
    "    col=\"Components\",\n",
    "    col_wrap=3,\n",
    "    x=\"Delta Has Task\",\n",
    "    kind=\"hist\",\n",
    "    stat=\"count\",\n",
    "    multiple=\"dodge\",\n",
    "    hue=\"SLIP_INSERTION_BOOL_MASK\",\n",
    "    discrete=True,\n",
    "    teeplot_callback = True,\n",
    "    shrink=0.8,\n",
    ")\n",
    "plt.yscale('log')\n",
    "\n",
    "# add count labels\n",
    "# adapted from https://stackoverflow.com/a/55319634/17332200\n",
    "for ax in result.axes.flat:\n",
    "    for p in ax.patches:\n",
    "        ax.annotate(\n",
    "            text=f\"{p.get_height():1.0f}\",\n",
    "            xy=(p.get_x() + p.get_width() / 2., p.get_height()),\n",
    "            xycoords='data',\n",
    "            ha='center',\n",
    "            va='center',\n",
    "            fontsize=11,\n",
    "            color='black',\n",
    "            xytext=(0,7),\n",
    "            textcoords='offset points',\n",
    "            clip_on=True,                   # <---  important\n",
    "        )\n",
    "\n",
    "saveit()\n"
   ]
  },
  {
   "cell_type": "code",
   "execution_count": 9,
   "metadata": {
    "execution": {
     "iopub.execute_input": "2024-11-26T07:32:21.989897Z",
     "iopub.status.busy": "2024-11-26T07:32:21.989394Z",
     "iopub.status.idle": "2024-11-26T07:32:23.735464Z",
     "shell.execute_reply": "2024-11-26T07:32:23.734811Z"
    }
   },
   "outputs": [
    {
     "data": {
      "text/plain": [
       "<seaborn.axisgrid.FacetGrid at 0x7fefef07e740>"
      ]
     },
     "execution_count": 9,
     "metadata": {},
     "output_type": "execute_result"
    }
   ],
   "source": [
    "sns.displot(\n",
    "    data=dfx.astype(\n",
    "        {\n",
    "            \"Delta Has Task\": \"category\",\n",
    "            \"SLIP_INSERTION_BOOL_MASK\": \"category\",\n",
    "            \"POINT_MUTATION_BOOL_MASK\": \"category\",\n",
    "        }\n",
    "    ),\n",
    "    x=\"Delta Has Task\",\n",
    "    hue=\"SLIP_INSERTION_BOOL_MASK\",\n",
    "    col=\"Components\",\n",
    "    kind=\"hist\",\n",
    "    multiple=\"fill\",\n",
    "    row=\"Treatment\",\n",
    "    facet_kws=dict(margin_titles=True, ),\n",
    "    aspect=0.8,\n",
    "    height=2.5,\n",
    ").set_titles(row_template=\"{row_name}\", col_template=\"{col_name}\")\n"
   ]
  },
  {
   "cell_type": "code",
   "execution_count": 10,
   "metadata": {
    "execution": {
     "iopub.execute_input": "2024-11-26T07:32:23.737801Z",
     "iopub.status.busy": "2024-11-26T07:32:23.737426Z",
     "iopub.status.idle": "2024-11-26T07:32:25.513458Z",
     "shell.execute_reply": "2024-11-26T07:32:25.512851Z"
    }
   },
   "outputs": [],
   "source": [
    "g = sns.displot(\n",
    "    data=dfx.astype(\n",
    "        {\n",
    "            \"Delta Has Task\": \"category\",\n",
    "            \"SLIP_INSERTION_BOOL_MASK\": \"category\",\n",
    "            \"POINT_MUTATION_BOOL_MASK\": \"category\",\n",
    "        }\n",
    "    ),\n",
    "    x=\"Delta Has Task\",\n",
    "    hue=\"SLIP_INSERTION_BOOL_MASK\",\n",
    "    col=\"Components\",\n",
    "    kind=\"hist\",\n",
    "    multiple=\"dodge\",\n",
    "    row=\"Treatment\",\n",
    "    facet_kws=dict(margin_titles=True, ),\n",
    "    aspect=0.8,\n",
    "    height=2.5,\n",
    "    shrink=0.8,\n",
    ").set_titles(row_template=\"{row_name}\", col_template=\"{col_name}\")\n",
    "\n",
    "for ax in g.axes.flat:\n",
    "    ax.set_yscale(\"symlog\")\n"
   ]
  }
 ],
 "metadata": {
  "kernelspec": {
   "display_name": "Python 3",
   "language": "python",
   "name": "python3"
  },
  "language_info": {
   "codemirror_mode": {
    "name": "ipython",
    "version": 3
   },
   "file_extension": ".py",
   "mimetype": "text/x-python",
   "name": "python",
   "nbconvert_exporter": "python",
   "pygments_lexer": "ipython3",
   "version": "3.10.12"
  }
 },
 "nbformat": 4,
 "nbformat_minor": 2
}
