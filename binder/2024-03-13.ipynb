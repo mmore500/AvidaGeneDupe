{
 "cells": [
  {
   "cell_type": "markdown",
   "metadata": {},
   "source": [
    "## Set Up Dependencies and Data\n"
   ]
  },
  {
   "cell_type": "code",
   "execution_count": 1,
   "metadata": {
    "execution": {
     "iopub.execute_input": "2024-11-26T06:51:19.929098Z",
     "iopub.status.busy": "2024-11-26T06:51:19.928923Z",
     "iopub.status.idle": "2024-11-26T06:51:20.902244Z",
     "shell.execute_reply": "2024-11-26T06:51:20.901634Z"
    }
   },
   "outputs": [],
   "source": [
    "import joblib\n",
    "from matplotlib import pyplot as plt\n",
    "import numpy as np\n",
    "import pandas as pd\n",
    "import seaborn as sns\n",
    "from tqdm import tqdm\n"
   ]
  },
  {
   "cell_type": "code",
   "execution_count": 2,
   "metadata": {
    "execution": {
     "iopub.execute_input": "2024-11-26T06:51:20.904474Z",
     "iopub.status.busy": "2024-11-26T06:51:20.904187Z",
     "iopub.status.idle": "2024-11-26T06:51:22.476557Z",
     "shell.execute_reply": "2024-11-26T06:51:22.476033Z"
    }
   },
   "outputs": [],
   "source": [
    "slip_df = pd.read_csv(\"https://osf.io/ftb8m/download\")\n",
    "baseline_df = pd.read_csv(\"https://osf.io/zfkvm/download\")\n"
   ]
  },
  {
   "cell_type": "markdown",
   "metadata": {},
   "source": [
    "## Reproducibility\n"
   ]
  },
  {
   "cell_type": "code",
   "execution_count": 3,
   "metadata": {
    "execution": {
     "iopub.execute_input": "2024-11-26T06:51:22.478640Z",
     "iopub.status.busy": "2024-11-26T06:51:22.478454Z",
     "iopub.status.idle": "2024-11-26T06:51:22.501690Z",
     "shell.execute_reply": "2024-11-26T06:51:22.501048Z"
    }
   },
   "outputs": [
    {
     "name": "stdout",
     "output_type": "stream",
     "text": [
      "Last updated: 2024-11-26T06:51:22.483666+00:00\n",
      "\n",
      "Python implementation: CPython\n",
      "Python version       : 3.10.12\n",
      "IPython version      : 8.29.0\n",
      "\n",
      "Compiler    : GCC 11.4.0\n",
      "OS          : Linux\n",
      "Release     : 6.5.0-1025-azure\n",
      "Machine     : x86_64\n",
      "Processor   : x86_64\n",
      "CPU cores   : 4\n",
      "Architecture: 64bit\n",
      "\n",
      "Git hash: 07b0ddd48545ed2d5c361802ac02d05e5e934aa5\n",
      "\n",
      "Git branch: main\n",
      "\n",
      "matplotlib: 3.9.2\n",
      "seaborn   : 0.13.2\n",
      "numpy     : 2.1.3\n",
      "joblib    : 1.3.2\n",
      "pandas    : 2.2.3\n",
      "\n",
      "Watermark: 2.4.3\n",
      "\n"
     ]
    }
   ],
   "source": [
    "%load_ext watermark\n",
    "%watermark -iwbmuvg -iv\n"
   ]
  },
  {
   "cell_type": "code",
   "execution_count": 4,
   "metadata": {
    "execution": {
     "iopub.execute_input": "2024-11-26T06:51:22.528562Z",
     "iopub.status.busy": "2024-11-26T06:51:22.528319Z",
     "iopub.status.idle": "2024-11-26T06:51:22.537435Z",
     "shell.execute_reply": "2024-11-26T06:51:22.536962Z"
    }
   },
   "outputs": [
    {
     "data": {
      "text/plain": [
       "'8b26bd2bdb19bd31284ceb2f054518d1'"
      ]
     },
     "execution_count": 4,
     "metadata": {},
     "output_type": "execute_result"
    }
   ],
   "source": [
    "joblib.hash(slip_df)\n"
   ]
  },
  {
   "cell_type": "code",
   "execution_count": 5,
   "metadata": {
    "execution": {
     "iopub.execute_input": "2024-11-26T06:51:22.539275Z",
     "iopub.status.busy": "2024-11-26T06:51:22.538877Z",
     "iopub.status.idle": "2024-11-26T06:51:22.545571Z",
     "shell.execute_reply": "2024-11-26T06:51:22.544985Z"
    }
   },
   "outputs": [
    {
     "data": {
      "text/plain": [
       "'aa54a1ed83c544fc164b3cd3963cb62e'"
      ]
     },
     "execution_count": 5,
     "metadata": {},
     "output_type": "execute_result"
    }
   ],
   "source": [
    "joblib.hash(baseline_df)\n"
   ]
  },
  {
   "cell_type": "markdown",
   "metadata": {},
   "source": [
    "# Preprocess data\n"
   ]
  },
  {
   "cell_type": "code",
   "execution_count": 6,
   "metadata": {
    "execution": {
     "iopub.execute_input": "2024-11-26T06:51:22.547489Z",
     "iopub.status.busy": "2024-11-26T06:51:22.547096Z",
     "iopub.status.idle": "2024-11-26T06:51:22.551210Z",
     "shell.execute_reply": "2024-11-26T06:51:22.550738Z"
    }
   },
   "outputs": [],
   "source": [
    "slip_df[\"condition\"] = \"slip\"\n",
    "baseline_df[\"condition\"] = \"baseline\"\n",
    "\n",
    "df = pd.concat([slip_df, baseline_df])\n"
   ]
  },
  {
   "cell_type": "code",
   "execution_count": 7,
   "metadata": {
    "execution": {
     "iopub.execute_input": "2024-11-26T06:51:22.553099Z",
     "iopub.status.busy": "2024-11-26T06:51:22.552686Z",
     "iopub.status.idle": "2024-11-26T06:51:22.564993Z",
     "shell.execute_reply": "2024-11-26T06:51:22.564495Z"
    }
   },
   "outputs": [],
   "source": [
    "df[\"Task Coding Sites\"] = df[\"Task Coding Sites\"].apply(eval)\n"
   ]
  },
  {
   "cell_type": "code",
   "execution_count": 8,
   "metadata": {
    "execution": {
     "iopub.execute_input": "2024-11-26T06:51:22.566688Z",
     "iopub.status.busy": "2024-11-26T06:51:22.566501Z",
     "iopub.status.idle": "2024-11-26T06:51:22.570306Z",
     "shell.execute_reply": "2024-11-26T06:51:22.569842Z"
    }
   },
   "outputs": [],
   "source": [
    "df[\"Run ID\"] = df[\"Unnamed: 0\"].apply(lambda x: x.split(\",\")[0])\n",
    "df[\"Task\"] = df[\"Unnamed: 0\"].apply(lambda x: x.split(\",\")[1])\n"
   ]
  },
  {
   "cell_type": "code",
   "execution_count": 9,
   "metadata": {
    "execution": {
     "iopub.execute_input": "2024-11-26T06:51:22.571993Z",
     "iopub.status.busy": "2024-11-26T06:51:22.571809Z",
     "iopub.status.idle": "2024-11-26T06:51:22.576345Z",
     "shell.execute_reply": "2024-11-26T06:51:22.575876Z"
    }
   },
   "outputs": [],
   "source": [
    "df[\"Genome Site\"] = df[\"Genome\"].apply(list)\n"
   ]
  },
  {
   "cell_type": "code",
   "execution_count": 10,
   "metadata": {
    "execution": {
     "iopub.execute_input": "2024-11-26T06:51:22.578213Z",
     "iopub.status.busy": "2024-11-26T06:51:22.577799Z",
     "iopub.status.idle": "2024-11-26T06:51:22.620498Z",
     "shell.execute_reply": "2024-11-26T06:51:22.619891Z"
    }
   },
   "outputs": [
    {
     "data": {
      "text/html": [
       "<div>\n",
       "<style scoped>\n",
       "    .dataframe tbody tr th:only-of-type {\n",
       "        vertical-align: middle;\n",
       "    }\n",
       "\n",
       "    .dataframe tbody tr th {\n",
       "        vertical-align: top;\n",
       "    }\n",
       "\n",
       "    .dataframe thead th {\n",
       "        text-align: right;\n",
       "    }\n",
       "</style>\n",
       "<table border=\"1\" class=\"dataframe\">\n",
       "  <thead>\n",
       "    <tr style=\"text-align: right;\">\n",
       "      <th></th>\n",
       "      <th>Unnamed: 0</th>\n",
       "      <th>Task Coding Sites</th>\n",
       "      <th>Number of Task Coding Sites</th>\n",
       "      <th>Number of Unique Coding Sites</th>\n",
       "      <th>Viability Sites</th>\n",
       "      <th>Number of Viability Sites</th>\n",
       "      <th>Genome Length</th>\n",
       "      <th>Fraction Task Coding Sites</th>\n",
       "      <th>Fraction Viability Sites</th>\n",
       "      <th>Ratio of Viability Sites to Coding Sites</th>\n",
       "      <th>Genome</th>\n",
       "      <th>condition</th>\n",
       "      <th>Run ID</th>\n",
       "      <th>Task</th>\n",
       "      <th>Genome Site</th>\n",
       "    </tr>\n",
       "  </thead>\n",
       "  <tbody>\n",
       "    <tr>\n",
       "      <th>0</th>\n",
       "      <td>run_1593,NOT</td>\n",
       "      <td>[50, 52, 56, 69, 74, 81, 85, 91]</td>\n",
       "      <td>8</td>\n",
       "      <td>45</td>\n",
       "      <td>[16, 60, 77, 78, 82, 83, 136, 137, 138, 139, 1...</td>\n",
       "      <td>28</td>\n",
       "      <td>161</td>\n",
       "      <td>0.279503</td>\n",
       "      <td>0.173913</td>\n",
       "      <td>0.622222</td>\n",
       "      <td>pplbttjklijAzbzawnieqeuonyycucucAcycoucscfkjbo...</td>\n",
       "      <td>slip</td>\n",
       "      <td>run_1593</td>\n",
       "      <td>NOT</td>\n",
       "      <td>p</td>\n",
       "    </tr>\n",
       "    <tr>\n",
       "      <th>0</th>\n",
       "      <td>run_1593,NOT</td>\n",
       "      <td>[50, 52, 56, 69, 74, 81, 85, 91]</td>\n",
       "      <td>8</td>\n",
       "      <td>45</td>\n",
       "      <td>[16, 60, 77, 78, 82, 83, 136, 137, 138, 139, 1...</td>\n",
       "      <td>28</td>\n",
       "      <td>161</td>\n",
       "      <td>0.279503</td>\n",
       "      <td>0.173913</td>\n",
       "      <td>0.622222</td>\n",
       "      <td>pplbttjklijAzbzawnieqeuonyycucucAcycoucscfkjbo...</td>\n",
       "      <td>slip</td>\n",
       "      <td>run_1593</td>\n",
       "      <td>NOT</td>\n",
       "      <td>p</td>\n",
       "    </tr>\n",
       "    <tr>\n",
       "      <th>0</th>\n",
       "      <td>run_1593,NOT</td>\n",
       "      <td>[50, 52, 56, 69, 74, 81, 85, 91]</td>\n",
       "      <td>8</td>\n",
       "      <td>45</td>\n",
       "      <td>[16, 60, 77, 78, 82, 83, 136, 137, 138, 139, 1...</td>\n",
       "      <td>28</td>\n",
       "      <td>161</td>\n",
       "      <td>0.279503</td>\n",
       "      <td>0.173913</td>\n",
       "      <td>0.622222</td>\n",
       "      <td>pplbttjklijAzbzawnieqeuonyycucucAcycoucscfkjbo...</td>\n",
       "      <td>slip</td>\n",
       "      <td>run_1593</td>\n",
       "      <td>NOT</td>\n",
       "      <td>l</td>\n",
       "    </tr>\n",
       "    <tr>\n",
       "      <th>0</th>\n",
       "      <td>run_1593,NOT</td>\n",
       "      <td>[50, 52, 56, 69, 74, 81, 85, 91]</td>\n",
       "      <td>8</td>\n",
       "      <td>45</td>\n",
       "      <td>[16, 60, 77, 78, 82, 83, 136, 137, 138, 139, 1...</td>\n",
       "      <td>28</td>\n",
       "      <td>161</td>\n",
       "      <td>0.279503</td>\n",
       "      <td>0.173913</td>\n",
       "      <td>0.622222</td>\n",
       "      <td>pplbttjklijAzbzawnieqeuonyycucucAcycoucscfkjbo...</td>\n",
       "      <td>slip</td>\n",
       "      <td>run_1593</td>\n",
       "      <td>NOT</td>\n",
       "      <td>b</td>\n",
       "    </tr>\n",
       "    <tr>\n",
       "      <th>0</th>\n",
       "      <td>run_1593,NOT</td>\n",
       "      <td>[50, 52, 56, 69, 74, 81, 85, 91]</td>\n",
       "      <td>8</td>\n",
       "      <td>45</td>\n",
       "      <td>[16, 60, 77, 78, 82, 83, 136, 137, 138, 139, 1...</td>\n",
       "      <td>28</td>\n",
       "      <td>161</td>\n",
       "      <td>0.279503</td>\n",
       "      <td>0.173913</td>\n",
       "      <td>0.622222</td>\n",
       "      <td>pplbttjklijAzbzawnieqeuonyycucucAcycoucscfkjbo...</td>\n",
       "      <td>slip</td>\n",
       "      <td>run_1593</td>\n",
       "      <td>NOT</td>\n",
       "      <td>t</td>\n",
       "    </tr>\n",
       "    <tr>\n",
       "      <th>...</th>\n",
       "      <td>...</td>\n",
       "      <td>...</td>\n",
       "      <td>...</td>\n",
       "      <td>...</td>\n",
       "      <td>...</td>\n",
       "      <td>...</td>\n",
       "      <td>...</td>\n",
       "      <td>...</td>\n",
       "      <td>...</td>\n",
       "      <td>...</td>\n",
       "      <td>...</td>\n",
       "      <td>...</td>\n",
       "      <td>...</td>\n",
       "      <td>...</td>\n",
       "      <td>...</td>\n",
       "    </tr>\n",
       "    <tr>\n",
       "      <th>269</th>\n",
       "      <td>run_1554,EQUALS</td>\n",
       "      <td>[]</td>\n",
       "      <td>0</td>\n",
       "      <td>38</td>\n",
       "      <td>[0, 3, 4, 5, 6, 86, 95, 99]</td>\n",
       "      <td>8</td>\n",
       "      <td>100</td>\n",
       "      <td>0.380000</td>\n",
       "      <td>0.080000</td>\n",
       "      <td>0.210526</td>\n",
       "      <td>wpbjagctblavyaAaujuyctcqbqjljbutawawyaybcuycta...</td>\n",
       "      <td>baseline</td>\n",
       "      <td>run_1554</td>\n",
       "      <td>EQUALS</td>\n",
       "      <td>x</td>\n",
       "    </tr>\n",
       "    <tr>\n",
       "      <th>269</th>\n",
       "      <td>run_1554,EQUALS</td>\n",
       "      <td>[]</td>\n",
       "      <td>0</td>\n",
       "      <td>38</td>\n",
       "      <td>[0, 3, 4, 5, 6, 86, 95, 99]</td>\n",
       "      <td>8</td>\n",
       "      <td>100</td>\n",
       "      <td>0.380000</td>\n",
       "      <td>0.080000</td>\n",
       "      <td>0.210526</td>\n",
       "      <td>wpbjagctblavyaAaujuyctcqbqjljbutawawyaybcuycta...</td>\n",
       "      <td>baseline</td>\n",
       "      <td>run_1554</td>\n",
       "      <td>EQUALS</td>\n",
       "      <td>v</td>\n",
       "    </tr>\n",
       "    <tr>\n",
       "      <th>269</th>\n",
       "      <td>run_1554,EQUALS</td>\n",
       "      <td>[]</td>\n",
       "      <td>0</td>\n",
       "      <td>38</td>\n",
       "      <td>[0, 3, 4, 5, 6, 86, 95, 99]</td>\n",
       "      <td>8</td>\n",
       "      <td>100</td>\n",
       "      <td>0.380000</td>\n",
       "      <td>0.080000</td>\n",
       "      <td>0.210526</td>\n",
       "      <td>wpbjagctblavyaAaujuyctcqbqjljbutawawyaybcuycta...</td>\n",
       "      <td>baseline</td>\n",
       "      <td>run_1554</td>\n",
       "      <td>EQUALS</td>\n",
       "      <td>v</td>\n",
       "    </tr>\n",
       "    <tr>\n",
       "      <th>269</th>\n",
       "      <td>run_1554,EQUALS</td>\n",
       "      <td>[]</td>\n",
       "      <td>0</td>\n",
       "      <td>38</td>\n",
       "      <td>[0, 3, 4, 5, 6, 86, 95, 99]</td>\n",
       "      <td>8</td>\n",
       "      <td>100</td>\n",
       "      <td>0.380000</td>\n",
       "      <td>0.080000</td>\n",
       "      <td>0.210526</td>\n",
       "      <td>wpbjagctblavyaAaujuyctcqbqjljbutawawyaybcuycta...</td>\n",
       "      <td>baseline</td>\n",
       "      <td>run_1554</td>\n",
       "      <td>EQUALS</td>\n",
       "      <td>v</td>\n",
       "    </tr>\n",
       "    <tr>\n",
       "      <th>269</th>\n",
       "      <td>run_1554,EQUALS</td>\n",
       "      <td>[]</td>\n",
       "      <td>0</td>\n",
       "      <td>38</td>\n",
       "      <td>[0, 3, 4, 5, 6, 86, 95, 99]</td>\n",
       "      <td>8</td>\n",
       "      <td>100</td>\n",
       "      <td>0.380000</td>\n",
       "      <td>0.080000</td>\n",
       "      <td>0.210526</td>\n",
       "      <td>wpbjagctblavyaAaujuyctcqbqjljbutawawyaybcuycta...</td>\n",
       "      <td>baseline</td>\n",
       "      <td>run_1554</td>\n",
       "      <td>EQUALS</td>\n",
       "      <td>g</td>\n",
       "    </tr>\n",
       "  </tbody>\n",
       "</table>\n",
       "<p>161766 rows × 15 columns</p>\n",
       "</div>"
      ],
      "text/plain": [
       "          Unnamed: 0                 Task Coding Sites  \\\n",
       "0       run_1593,NOT  [50, 52, 56, 69, 74, 81, 85, 91]   \n",
       "0       run_1593,NOT  [50, 52, 56, 69, 74, 81, 85, 91]   \n",
       "0       run_1593,NOT  [50, 52, 56, 69, 74, 81, 85, 91]   \n",
       "0       run_1593,NOT  [50, 52, 56, 69, 74, 81, 85, 91]   \n",
       "0       run_1593,NOT  [50, 52, 56, 69, 74, 81, 85, 91]   \n",
       "..               ...                               ...   \n",
       "269  run_1554,EQUALS                                []   \n",
       "269  run_1554,EQUALS                                []   \n",
       "269  run_1554,EQUALS                                []   \n",
       "269  run_1554,EQUALS                                []   \n",
       "269  run_1554,EQUALS                                []   \n",
       "\n",
       "     Number of Task Coding Sites  Number of Unique Coding Sites  \\\n",
       "0                              8                             45   \n",
       "0                              8                             45   \n",
       "0                              8                             45   \n",
       "0                              8                             45   \n",
       "0                              8                             45   \n",
       "..                           ...                            ...   \n",
       "269                            0                             38   \n",
       "269                            0                             38   \n",
       "269                            0                             38   \n",
       "269                            0                             38   \n",
       "269                            0                             38   \n",
       "\n",
       "                                       Viability Sites  \\\n",
       "0    [16, 60, 77, 78, 82, 83, 136, 137, 138, 139, 1...   \n",
       "0    [16, 60, 77, 78, 82, 83, 136, 137, 138, 139, 1...   \n",
       "0    [16, 60, 77, 78, 82, 83, 136, 137, 138, 139, 1...   \n",
       "0    [16, 60, 77, 78, 82, 83, 136, 137, 138, 139, 1...   \n",
       "0    [16, 60, 77, 78, 82, 83, 136, 137, 138, 139, 1...   \n",
       "..                                                 ...   \n",
       "269                        [0, 3, 4, 5, 6, 86, 95, 99]   \n",
       "269                        [0, 3, 4, 5, 6, 86, 95, 99]   \n",
       "269                        [0, 3, 4, 5, 6, 86, 95, 99]   \n",
       "269                        [0, 3, 4, 5, 6, 86, 95, 99]   \n",
       "269                        [0, 3, 4, 5, 6, 86, 95, 99]   \n",
       "\n",
       "     Number of Viability Sites  Genome Length  Fraction Task Coding Sites  \\\n",
       "0                           28            161                    0.279503   \n",
       "0                           28            161                    0.279503   \n",
       "0                           28            161                    0.279503   \n",
       "0                           28            161                    0.279503   \n",
       "0                           28            161                    0.279503   \n",
       "..                         ...            ...                         ...   \n",
       "269                          8            100                    0.380000   \n",
       "269                          8            100                    0.380000   \n",
       "269                          8            100                    0.380000   \n",
       "269                          8            100                    0.380000   \n",
       "269                          8            100                    0.380000   \n",
       "\n",
       "     Fraction Viability Sites  Ratio of Viability Sites to Coding Sites  \\\n",
       "0                    0.173913                                  0.622222   \n",
       "0                    0.173913                                  0.622222   \n",
       "0                    0.173913                                  0.622222   \n",
       "0                    0.173913                                  0.622222   \n",
       "0                    0.173913                                  0.622222   \n",
       "..                        ...                                       ...   \n",
       "269                  0.080000                                  0.210526   \n",
       "269                  0.080000                                  0.210526   \n",
       "269                  0.080000                                  0.210526   \n",
       "269                  0.080000                                  0.210526   \n",
       "269                  0.080000                                  0.210526   \n",
       "\n",
       "                                                Genome condition    Run ID  \\\n",
       "0    pplbttjklijAzbzawnieqeuonyycucucAcycoucscfkjbo...      slip  run_1593   \n",
       "0    pplbttjklijAzbzawnieqeuonyycucucAcycoucscfkjbo...      slip  run_1593   \n",
       "0    pplbttjklijAzbzawnieqeuonyycucucAcycoucscfkjbo...      slip  run_1593   \n",
       "0    pplbttjklijAzbzawnieqeuonyycucucAcycoucscfkjbo...      slip  run_1593   \n",
       "0    pplbttjklijAzbzawnieqeuonyycucucAcycoucscfkjbo...      slip  run_1593   \n",
       "..                                                 ...       ...       ...   \n",
       "269  wpbjagctblavyaAaujuyctcqbqjljbutawawyaybcuycta...  baseline  run_1554   \n",
       "269  wpbjagctblavyaAaujuyctcqbqjljbutawawyaybcuycta...  baseline  run_1554   \n",
       "269  wpbjagctblavyaAaujuyctcqbqjljbutawawyaybcuycta...  baseline  run_1554   \n",
       "269  wpbjagctblavyaAaujuyctcqbqjljbutawawyaybcuycta...  baseline  run_1554   \n",
       "269  wpbjagctblavyaAaujuyctcqbqjljbutawawyaybcuycta...  baseline  run_1554   \n",
       "\n",
       "       Task Genome Site  \n",
       "0       NOT           p  \n",
       "0       NOT           p  \n",
       "0       NOT           l  \n",
       "0       NOT           b  \n",
       "0       NOT           t  \n",
       "..      ...         ...  \n",
       "269  EQUALS           x  \n",
       "269  EQUALS           v  \n",
       "269  EQUALS           v  \n",
       "269  EQUALS           v  \n",
       "269  EQUALS           g  \n",
       "\n",
       "[161766 rows x 15 columns]"
      ]
     },
     "execution_count": 10,
     "metadata": {},
     "output_type": "execute_result"
    }
   ],
   "source": [
    "tidy_df = df.explode(\"Genome Site\")\n",
    "tidy_df\n"
   ]
  },
  {
   "cell_type": "markdown",
   "metadata": {},
   "source": [
    "### Absolute Instruction Abundances\n"
   ]
  },
  {
   "cell_type": "code",
   "execution_count": 11,
   "metadata": {
    "execution": {
     "iopub.execute_input": "2024-11-26T06:51:22.622489Z",
     "iopub.status.busy": "2024-11-26T06:51:22.622290Z",
     "iopub.status.idle": "2024-11-26T06:51:23.154805Z",
     "shell.execute_reply": "2024-11-26T06:51:23.154270Z"
    }
   },
   "outputs": [
    {
     "data": {
      "text/plain": [
       "<Axes: xlabel='Genome Site', ylabel='count'>"
      ]
     },
     "execution_count": 11,
     "metadata": {},
     "output_type": "execute_result"
    },
    {
     "data": {
      "image/png": "[encoded data removed]",
      "text/plain": [
       "<Figure size 640x480 with 1 Axes>"
      ]
     },
     "metadata": {},
     "output_type": "display_data"
    }
   ],
   "source": [
    "sns.countplot(\n",
    "    data=tidy_df,\n",
    "    x=\"Genome Site\",\n",
    "    hue=\"condition\",\n",
    ")\n"
   ]
  },
  {
   "cell_type": "code",
   "execution_count": 12,
   "metadata": {
    "execution": {
     "iopub.execute_input": "2024-11-26T06:51:23.156856Z",
     "iopub.status.busy": "2024-11-26T06:51:23.156489Z",
     "iopub.status.idle": "2024-11-26T06:51:23.185539Z",
     "shell.execute_reply": "2024-11-26T06:51:23.184948Z"
    }
   },
   "outputs": [
    {
     "data": {
      "text/html": [
       "<div>\n",
       "<style scoped>\n",
       "    .dataframe tbody tr th:only-of-type {\n",
       "        vertical-align: middle;\n",
       "    }\n",
       "\n",
       "    .dataframe tbody tr th {\n",
       "        vertical-align: top;\n",
       "    }\n",
       "\n",
       "    .dataframe thead th {\n",
       "        text-align: right;\n",
       "    }\n",
       "</style>\n",
       "<table border=\"1\" class=\"dataframe\">\n",
       "  <thead>\n",
       "    <tr style=\"text-align: right;\">\n",
       "      <th></th>\n",
       "      <th>Run ID</th>\n",
       "      <th>condition</th>\n",
       "      <th>Genome Site</th>\n",
       "      <th>0</th>\n",
       "    </tr>\n",
       "  </thead>\n",
       "  <tbody>\n",
       "    <tr>\n",
       "      <th>0</th>\n",
       "      <td>run_1530</td>\n",
       "      <td>baseline</td>\n",
       "      <td>A</td>\n",
       "      <td>0.010000</td>\n",
       "    </tr>\n",
       "    <tr>\n",
       "      <th>1</th>\n",
       "      <td>run_1530</td>\n",
       "      <td>baseline</td>\n",
       "      <td>a</td>\n",
       "      <td>0.120000</td>\n",
       "    </tr>\n",
       "    <tr>\n",
       "      <th>2</th>\n",
       "      <td>run_1530</td>\n",
       "      <td>baseline</td>\n",
       "      <td>b</td>\n",
       "      <td>0.040000</td>\n",
       "    </tr>\n",
       "    <tr>\n",
       "      <th>3</th>\n",
       "      <td>run_1530</td>\n",
       "      <td>baseline</td>\n",
       "      <td>c</td>\n",
       "      <td>0.140000</td>\n",
       "    </tr>\n",
       "    <tr>\n",
       "      <th>4</th>\n",
       "      <td>run_1530</td>\n",
       "      <td>baseline</td>\n",
       "      <td>d</td>\n",
       "      <td>0.020000</td>\n",
       "    </tr>\n",
       "    <tr>\n",
       "      <th>...</th>\n",
       "      <td>...</td>\n",
       "      <td>...</td>\n",
       "      <td>...</td>\n",
       "      <td>...</td>\n",
       "    </tr>\n",
       "    <tr>\n",
       "      <th>1530</th>\n",
       "      <td>run_1619</td>\n",
       "      <td>slip</td>\n",
       "      <td>v</td>\n",
       "      <td>0.043364</td>\n",
       "    </tr>\n",
       "    <tr>\n",
       "      <th>1531</th>\n",
       "      <td>run_1619</td>\n",
       "      <td>slip</td>\n",
       "      <td>w</td>\n",
       "      <td>0.040736</td>\n",
       "    </tr>\n",
       "    <tr>\n",
       "      <th>1532</th>\n",
       "      <td>run_1619</td>\n",
       "      <td>slip</td>\n",
       "      <td>x</td>\n",
       "      <td>0.043364</td>\n",
       "    </tr>\n",
       "    <tr>\n",
       "      <th>1533</th>\n",
       "      <td>run_1619</td>\n",
       "      <td>slip</td>\n",
       "      <td>y</td>\n",
       "      <td>0.040736</td>\n",
       "    </tr>\n",
       "    <tr>\n",
       "      <th>1534</th>\n",
       "      <td>run_1619</td>\n",
       "      <td>slip</td>\n",
       "      <td>z</td>\n",
       "      <td>0.010512</td>\n",
       "    </tr>\n",
       "  </tbody>\n",
       "</table>\n",
       "<p>1535 rows × 4 columns</p>\n",
       "</div>"
      ],
      "text/plain": [
       "        Run ID condition Genome Site         0\n",
       "0     run_1530  baseline           A  0.010000\n",
       "1     run_1530  baseline           a  0.120000\n",
       "2     run_1530  baseline           b  0.040000\n",
       "3     run_1530  baseline           c  0.140000\n",
       "4     run_1530  baseline           d  0.020000\n",
       "...        ...       ...         ...       ...\n",
       "1530  run_1619      slip           v  0.043364\n",
       "1531  run_1619      slip           w  0.040736\n",
       "1532  run_1619      slip           x  0.043364\n",
       "1533  run_1619      slip           y  0.040736\n",
       "1534  run_1619      slip           z  0.010512\n",
       "\n",
       "[1535 rows x 4 columns]"
      ]
     },
     "execution_count": 12,
     "metadata": {},
     "output_type": "execute_result"
    }
   ],
   "source": [
    "count_df = (\n",
    "    tidy_df.groupby([\"Run ID\", \"condition\", \"Genome Site\"]).size().reset_index()\n",
    ")\n",
    "count_df[0] /= count_df.groupby([\"Run ID\", \"condition\"])[0].transform(\"sum\")\n",
    "count_df\n"
   ]
  },
  {
   "cell_type": "markdown",
   "metadata": {},
   "source": [
    "## Relative Instruction Abundances\n"
   ]
  },
  {
   "cell_type": "code",
   "execution_count": 13,
   "metadata": {
    "execution": {
     "iopub.execute_input": "2024-11-26T06:51:23.187615Z",
     "iopub.status.busy": "2024-11-26T06:51:23.187288Z",
     "iopub.status.idle": "2024-11-26T06:51:24.104833Z",
     "shell.execute_reply": "2024-11-26T06:51:24.104232Z"
    }
   },
   "outputs": [
    {
     "data": {
      "text/plain": [
       "<Axes: xlabel='Genome Site', ylabel='0'>"
      ]
     },
     "execution_count": 13,
     "metadata": {},
     "output_type": "execute_result"
    },
    {
     "data": {
      "image/png": "[encoded data removed]",
      "text/plain": [
       "<Figure size 640x480 with 1 Axes>"
      ]
     },
     "metadata": {},
     "output_type": "display_data"
    }
   ],
   "source": [
    "sns.barplot(\n",
    "    data=count_df,\n",
    "    x=\"Genome Site\",\n",
    "    hue=\"condition\",\n",
    "    y=0,\n",
    ")\n"
   ]
  }
 ],
 "metadata": {
  "kernelspec": {
   "display_name": "Python 3",
   "language": "python",
   "name": "python3"
  },
  "language_info": {
   "codemirror_mode": {
    "name": "ipython",
    "version": 3
   },
   "file_extension": ".py",
   "mimetype": "text/x-python",
   "name": "python",
   "nbconvert_exporter": "python",
   "pygments_lexer": "ipython3",
   "version": "3.10.12"
  }
 },
 "nbformat": 4,
 "nbformat_minor": 4
}
